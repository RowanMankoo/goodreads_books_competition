{
 "cells": [
  {
   "cell_type": "code",
   "execution_count": 1,
   "metadata": {},
   "outputs": [],
   "source": [
    "import pandas as pd\n",
    "import numpy as np\n",
    "from tensorflow.keras.preprocessing.text import Tokenizer\n",
    "from tensorflow.keras.utils import pad_sequences\n",
    "import torch\n",
    "import matplotlib.pyplot as plt\n",
    "from rowan_ds_tools.EDA import nlp"
   ]
  },
  {
   "cell_type": "code",
   "execution_count": 2,
   "metadata": {},
   "outputs": [],
   "source": [
    "df = pd.read_csv('..\\Data\\goodreads_train.csv')"
   ]
  },
  {
   "cell_type": "code",
   "execution_count": 65,
   "metadata": {},
   "outputs": [
    {
     "data": {
      "text/plain": [
       "0         5\n",
       "1         3\n",
       "2         3\n",
       "3         0\n",
       "4         4\n",
       "         ..\n",
       "899995    3\n",
       "899996    3\n",
       "899997    4\n",
       "899998    4\n",
       "899999    3\n",
       "Name: rating, Length: 900000, dtype: int64"
      ]
     },
     "execution_count": 65,
     "metadata": {},
     "output_type": "execute_result"
    }
   ],
   "source": [
    "df['rating']"
   ]
  },
  {
   "cell_type": "code",
   "execution_count": 3,
   "metadata": {},
   "outputs": [],
   "source": [
    "tokenizer = Tokenizer(num_words=10000, oov_token='<UNK>', char_level=False)\n",
    "tokenizer.fit_on_texts(df['review_text'])\n",
    "model_input_dim = tokenizer.num_words\n",
    "\n",
    "# Tokenize and Pad sequences\n",
    "sequences = tokenizer.texts_to_sequences(df['review_text'])\n",
    "sequences = pad_sequences(sequences,maxlen=1500, padding='post')\n",
    "\n",
    "X = torch.tensor(sequences)"
   ]
  },
  {
   "cell_type": "code",
   "execution_count": 59,
   "metadata": {},
   "outputs": [],
   "source": [
    "\n",
    "\n",
    "class RatingModel(torch.nn.Module):\n",
    "\n",
    "    def __init__(self, model_input_dim):\n",
    "\n",
    "        super(RatingModel,self).__init__()\n",
    "        self.layer1 = torch.nn.Embedding(model_input_dim, 150) # -> (*,H)\n",
    "        self.layer2 = torch.nn.GRU(150,100,num_layers=2,bidirectional=True) # -> (D*num_layers,N,H) D-2 if bidrectional, N-batch_size, H-hidden_size \n",
    "        self.layer3 = torch.nn.Linear(2*100,6)\n",
    "\n",
    "    \n",
    "    def forward(self,x):\n",
    "        \n",
    "        out = self.layer1(x)\n",
    "        out, hidden = self.layer2(out)\n",
    "        out = out[-1,:]\n",
    "        out = self.layer3(out)\n",
    "        return out\n"
   ]
  },
  {
   "cell_type": "code",
   "execution_count": 60,
   "metadata": {},
   "outputs": [],
   "source": [
    "model = RatingModel(model_input_dim)"
   ]
  },
  {
   "cell_type": "code",
   "execution_count": 61,
   "metadata": {},
   "outputs": [],
   "source": [
    "a = model.forward(X[0])"
   ]
  },
  {
   "cell_type": "code",
   "execution_count": 63,
   "metadata": {},
   "outputs": [
    {
     "name": "stdout",
     "output_type": "stream",
     "text": [
      "The model has 1,833,606 trainable parameters\n"
     ]
    }
   ],
   "source": [
    "def count_parameters(model):\n",
    "    return sum(p.numel() for p in model.parameters() if p.requires_grad)\n",
    "\n",
    "print(f'The model has {count_parameters(model):,} trainable parameters')"
   ]
  },
  {
   "cell_type": "code",
   "execution_count": 103,
   "metadata": {},
   "outputs": [
    {
     "data": {
      "text/plain": [
       "(900000,)"
      ]
     },
     "execution_count": 103,
     "metadata": {},
     "output_type": "execute_result"
    }
   ],
   "source": [
    "df['review_text'].to_numpy()"
   ]
  }
 ],
 "metadata": {
  "kernelspec": {
   "display_name": "Python 3.10.7 64-bit (microsoft store)",
   "language": "python",
   "name": "python3"
  },
  "language_info": {
   "codemirror_mode": {
    "name": "ipython",
    "version": 3
   },
   "file_extension": ".py",
   "mimetype": "text/x-python",
   "name": "python",
   "nbconvert_exporter": "python",
   "pygments_lexer": "ipython3",
   "version": "3.10.8"
  },
  "orig_nbformat": 4,
  "vscode": {
   "interpreter": {
    "hash": "c4af7d6242082e4131a702f983280a032ccd33ed19d564fcc781d886f19b72ff"
   }
  }
 },
 "nbformat": 4,
 "nbformat_minor": 2
}
