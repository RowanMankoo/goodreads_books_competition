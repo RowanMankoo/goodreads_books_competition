{
 "cells": [
  {
   "cell_type": "code",
   "execution_count": 3,
   "metadata": {},
   "outputs": [],
   "source": [
    "import pandas as pd\n",
    "import numpy as np\n",
    "from tensorflow.keras.preprocessing.text import Tokenizer\n",
    "import torch"
   ]
  },
  {
   "cell_type": "code",
   "execution_count": 4,
   "metadata": {},
   "outputs": [],
   "source": [
    "df = pd.read_csv('Data\\goodreads_train.csv')"
   ]
  },
  {
   "cell_type": "code",
   "execution_count": 5,
   "metadata": {},
   "outputs": [],
   "source": [
    "tokenizer = Tokenizer(num_words=None, oov_token='<UNK>', char_level=False)\n",
    "tokenizer.fit_on_texts(df['review_text'])\n",
    "\n",
    "df['review_text'] = tokenizer.texts_to_sequences(df['review_text'])"
   ]
  },
  {
   "cell_type": "code",
   "execution_count": 12,
   "metadata": {},
   "outputs": [
    {
     "data": {
      "text/plain": [
       "array([list([13, 10, 6, 701, 14, 8, 272, 419, 16, 35, 2, 67, 497, 108, 11, 2, 493, 497, 8, 272, 5, 71, 163, 108, 2, 201, 497, 2468, 30, 290, 13, 10, 42, 4, 44, 35, 77, 829, 443, 8, 3664, 156, 416, 35, 128, 102, 80, 147, 8, 10, 6, 1777, 5500, 3345, 3, 6095, 45, 217, 528, 3289, 96, 120, 8, 163, 11, 32, 6, 185, 82, 45, 127, 102, 159, 31, 16, 2678, 2, 59453, 7, 3289, 7493, 489, 52, 43, 326, 15781, 111, 7, 112, 109635, 700, 8, 10, 6, 14, 35, 829, 3, 2270, 2, 829, 1087, 11, 2, 14, 10, 2516, 217, 6, 14, 5260, 11, 5621, 3, 184, 2455, 19, 283, 19, 4, 105, 322, 209, 124, 113, 51, 8, 151, 5, 18683, 60914, 85, 1434, 6599, 4, 81, 28, 12, 32, 408, 473, 48, 163, 5, 81, 35, 113, 15, 42, 64, 338, 57, 267, 60915, 16616, 877, 6, 1245, 57, 88, 169, 266, 12, 49, 46, 3, 2, 249, 21735, 3, 8791, 2, 9633, 25, 267, 349, 12, 13779, 9, 170, 7, 2, 14, 12, 6, 129, 332, 4, 64, 29, 5, 81, 414, 1479, 5, 2717, 1763, 5010, 9, 10, 7770, 64, 26, 40, 29, 15823, 772, 128, 88, 64, 1894, 202, 4, 91, 29, 52, 2, 14, 12978, 2, 46459, 1057, 130, 2, 772, 8, 12, 6, 690, 82, 5, 1055, 3752, 18, 74, 3, 78, 292, 42, 1563, 664, 130, 655, 20, 141, 3958, 3, 59, 79, 6, 193, 750, 452, 12, 50, 32278, 4465, 452, 15, 4, 101, 84, 71, 59, 120, 2, 772, 226, 9, 76, 207, 11, 2, 158, 14, 4, 89, 13, 1437, 11, 2, 204, 489, 7, 3130, 2369, 52, 141, 60914, 27, 95, 12733, 781, 11, 122957, 61, 31153, 52, 141, 93190, 3, 49169, 269, 87, 6754, 93, 6, 1583, 2323, 182, 17054, 12, 269, 2, 104, 7, 2, 14694, 3, 37074, 11, 6, 144002, 11, 243, 68, 11, 977, 2, 3241, 7, 7020, 360, 26, 656, 39, 182, 239, 16, 904, 130, 2, 13555, 7, 93190, 78, 6, 328, 3124, 14075, 4856, 6190, 2, 1912, 271, 2196, 3764, 7, 188, 17055, 7020, 242, 124]),\n",
       "       list([964, 61, 4581, 30475, 18838, 16, 630, 11, 4394, 800, 1387, 4271, 659, 21067, 186195, 20])],\n",
       "      dtype=object)"
      ]
     },
     "execution_count": 12,
     "metadata": {},
     "output_type": "execute_result"
    }
   ],
   "source": [
    "df['review_text'][0:2].values"
   ]
  },
  {
   "cell_type": "code",
   "execution_count": 11,
   "metadata": {},
   "outputs": [
    {
     "ename": "TypeError",
     "evalue": "can't convert np.ndarray of type numpy.object_. The only supported types are: float64, float32, float16, complex64, complex128, int64, int32, int16, int8, uint8, and bool.",
     "output_type": "error",
     "traceback": [
      "\u001b[1;31m---------------------------------------------------------------------------\u001b[0m",
      "\u001b[1;31mTypeError\u001b[0m                                 Traceback (most recent call last)",
      "Cell \u001b[1;32mIn [11], line 1\u001b[0m\n\u001b[1;32m----> 1\u001b[0m torch_tensor \u001b[39m=\u001b[39m torch\u001b[39m.\u001b[39mtensor(df[\u001b[39m'\u001b[39m\u001b[39mreview_text\u001b[39m\u001b[39m'\u001b[39m][\u001b[39m0\u001b[39m:\u001b[39m2\u001b[39m]\u001b[39m.\u001b[39mvalues)\n",
      "\u001b[1;31mTypeError\u001b[0m: can't convert np.ndarray of type numpy.object_. The only supported types are: float64, float32, float16, complex64, complex128, int64, int32, int16, int8, uint8, and bool."
     ]
    }
   ],
   "source": [
    "torch_tensor = torch.tensor(df['review_text'][0:2].values)\n"
   ]
  },
  {
   "cell_type": "code",
   "execution_count": 10,
   "metadata": {},
   "outputs": [
    {
     "ename": "TypeError",
     "evalue": "pad(): argument 'input' (position 1) must be Tensor, not Series",
     "output_type": "error",
     "traceback": [
      "\u001b[1;31m---------------------------------------------------------------------------\u001b[0m",
      "\u001b[1;31mTypeError\u001b[0m                                 Traceback (most recent call last)",
      "Cell \u001b[1;32mIn [10], line 1\u001b[0m\n\u001b[1;32m----> 1\u001b[0m torch\u001b[39m.\u001b[39mnn\u001b[39m.\u001b[39mfunctional\u001b[39m.\u001b[39mpad(df[\u001b[39m'\u001b[39m\u001b[39mreview_text\u001b[39m\u001b[39m'\u001b[39m][\u001b[39m0\u001b[39m:\u001b[39m2\u001b[39m])\n",
      "\u001b[1;31mTypeError\u001b[0m: pad(): argument 'input' (position 1) must be Tensor, not Series"
     ]
    }
   ],
   "source": [
    "torch.nn.functional.pad(df['review_text'][0:2])"
   ]
  },
  {
   "cell_type": "code",
   "execution_count": null,
   "metadata": {},
   "outputs": [],
   "source": [
    "class DataPreprocessing():\n",
    "\n",
    "    def __init__(self,df):\n",
    "        self.df = df\n",
    "        pass\n",
    "\n",
    "    def tokenize_reviews(self, num_words):\n",
    "        tokenizer = Tokenizer(num_words=None, oov_token='<UNK>', char_level=False)\n",
    "        self.df['review_text'] = tokenizer.texts_to_sequences(self.df['review_text'])\n",
    "    \n",
    "    def pad_reviews(self)\n"
   ]
  },
  {
   "cell_type": "code",
   "execution_count": 6,
   "metadata": {},
   "outputs": [],
   "source": [
    "model_input_dim = tokenizer.num_words"
   ]
  },
  {
   "cell_type": "code",
   "execution_count": null,
   "metadata": {},
   "outputs": [],
   "source": []
  },
  {
   "cell_type": "code",
   "execution_count": null,
   "metadata": {},
   "outputs": [],
   "source": [
    "class RatingModel(torch.nnn.Module):\n",
    "\n",
    "    def __init__(self, model_input_dim):\n",
    "\n",
    "        super(RatingModel,self).__init__()\n",
    "        self.layer1 = torch.nn.Embeding(model_input_dim, 200)\n",
    "\n",
    "    \n",
    "    def forward(self,x):\n"
   ]
  },
  {
   "cell_type": "code",
   "execution_count": 103,
   "metadata": {},
   "outputs": [
    {
     "data": {
      "text/plain": [
       "(900000,)"
      ]
     },
     "execution_count": 103,
     "metadata": {},
     "output_type": "execute_result"
    }
   ],
   "source": [
    "df['review_text'].to_numpy()"
   ]
  }
 ],
 "metadata": {
  "kernelspec": {
   "display_name": "Python 3.10.7 64-bit (microsoft store)",
   "language": "python",
   "name": "python3"
  },
  "language_info": {
   "codemirror_mode": {
    "name": "ipython",
    "version": 3
   },
   "file_extension": ".py",
   "mimetype": "text/x-python",
   "name": "python",
   "nbconvert_exporter": "python",
   "pygments_lexer": "ipython3",
   "version": "3.10.7"
  },
  "orig_nbformat": 4,
  "vscode": {
   "interpreter": {
    "hash": "c4af7d6242082e4131a702f983280a032ccd33ed19d564fcc781d886f19b72ff"
   }
  }
 },
 "nbformat": 4,
 "nbformat_minor": 2
}
