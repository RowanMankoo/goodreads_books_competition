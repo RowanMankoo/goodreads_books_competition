{
 "cells": [
  {
   "cell_type": "code",
   "execution_count": 1,
   "metadata": {},
   "outputs": [],
   "source": [
    "import pandas as pd\n",
    "import numpy as np\n",
    "from tensorflow.keras.preprocessing.text import Tokenizer\n",
    "from tensorflow.keras.utils import pad_sequences\n",
    "import torch\n",
    "from torch.utils.data import DataLoader,Dataset\n",
    "import matplotlib.pyplot as plt\n",
    "from rowan_ds_tools.EDA import nlp\n",
    "import math"
   ]
  },
  {
   "cell_type": "code",
   "execution_count": null,
   "metadata": {},
   "outputs": [],
   "source": [
    "df = pd.read_csv('..\\Data\\goodreads_train.csv')"
   ]
  },
  {
   "cell_type": "code",
   "execution_count": null,
   "metadata": {},
   "outputs": [],
   "source": [
    "tokenizer = Tokenizer(num_words=10000, oov_token='<UNK>', char_level=False)\n",
    "tokenizer.fit_on_texts(df['review_text'])\n",
    "model_input_dim = tokenizer.num_words\n",
    "\n",
    "# Tokenize and Pad sequences\n",
    "sequences = tokenizer.texts_to_sequences(df['review_text'])\n",
    "sequences = pad_sequences(sequences,maxlen=1500, padding='post')\n",
    "\n",
    "X = torch.tensor(sequences)\n",
    "Y = torch.tensor(df['rating'])"
   ]
  },
  {
   "cell_type": "code",
   "execution_count": null,
   "metadata": {},
   "outputs": [],
   "source": [
    "df['rating'].value_counts(dropna=False)"
   ]
  }
 ],
 "metadata": {
  "kernelspec": {
   "display_name": "Python 3.10.8 64-bit (microsoft store)",
   "language": "python",
   "name": "python3"
  },
  "language_info": {
   "codemirror_mode": {
    "name": "ipython",
    "version": 3
   },
   "file_extension": ".py",
   "mimetype": "text/x-python",
   "name": "python",
   "nbconvert_exporter": "python",
   "pygments_lexer": "ipython3",
   "version": "3.10.8"
  },
  "orig_nbformat": 4,
  "vscode": {
   "interpreter": {
    "hash": "c4af7d6242082e4131a702f983280a032ccd33ed19d564fcc781d886f19b72ff"
   }
  }
 },
 "nbformat": 4,
 "nbformat_minor": 2
}
